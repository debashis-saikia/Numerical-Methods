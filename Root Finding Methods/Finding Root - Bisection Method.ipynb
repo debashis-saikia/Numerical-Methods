{
 "cells": [
  {
   "cell_type": "code",
   "execution_count": 1,
   "id": "ebed4928",
   "metadata": {},
   "outputs": [],
   "source": [
    "import numpy as np"
   ]
  },
  {
   "cell_type": "code",
   "execution_count": 2,
   "id": "32f1c504",
   "metadata": {},
   "outputs": [],
   "source": [
    "def func(x):\n",
    "    return np.cos(x) - np.sin(x)"
   ]
  },
  {
   "cell_type": "code",
   "execution_count": 3,
   "id": "f064fd39",
   "metadata": {},
   "outputs": [],
   "source": [
    "#initial bracket\n",
    "a = 0\n",
    "b = 1"
   ]
  },
  {
   "cell_type": "code",
   "execution_count": 4,
   "id": "a8264188",
   "metadata": {},
   "outputs": [
    {
     "name": "stdout",
     "output_type": "stream",
     "text": [
      "-0.30116867893975674\n"
     ]
    }
   ],
   "source": [
    "print(func(a)*func(b))"
   ]
  },
  {
   "cell_type": "markdown",
   "id": "e4023bf8",
   "metadata": {},
   "source": [
    "# Without Tolerance"
   ]
  },
  {
   "cell_type": "code",
   "execution_count": 5,
   "id": "c25f9d2f",
   "metadata": {},
   "outputs": [],
   "source": [
    "def find_root(function, a, b):\n",
    "    iter = 0\n",
    "    f_a = function(a)\n",
    "    f_b = function(b)\n",
    "    while True:\n",
    "        iter +=1\n",
    "        c = (a+b)/2\n",
    "        f_c = function(c)\n",
    "\n",
    "        if f_c == 0:\n",
    "            root = c\n",
    "            break\n",
    "        elif f_a*f_c < 0:\n",
    "            b = c\n",
    "            f_b = f_c\n",
    "        else:\n",
    "            a = c\n",
    "            f_a = f_c\n",
    "\n",
    "    return root, iter\n",
    "        "
   ]
  },
  {
   "cell_type": "code",
   "execution_count": 6,
   "id": "181b505c",
   "metadata": {},
   "outputs": [],
   "source": [
    "root, iter = find_root(func, a = 0, b = 1)"
   ]
  },
  {
   "cell_type": "code",
   "execution_count": 7,
   "id": "2f84e271",
   "metadata": {},
   "outputs": [
    {
     "name": "stdout",
     "output_type": "stream",
     "text": [
      "Root: 0.7853981633974483, found in 50 iterations\n"
     ]
    }
   ],
   "source": [
    "print(f\"Root: {root}, found in {iter} iterations\")"
   ]
  },
  {
   "cell_type": "markdown",
   "id": "b75f6718",
   "metadata": {},
   "source": [
    "# With tolerance"
   ]
  },
  {
   "cell_type": "code",
   "execution_count": 8,
   "id": "3db117e5",
   "metadata": {},
   "outputs": [],
   "source": [
    "def find_root_tol(function, a, b):\n",
    "    iter = 0\n",
    "    f_a = function(a)\n",
    "    f_b = function(b)\n",
    "    while True:\n",
    "        iter +=1\n",
    "        c = (a+b)/2\n",
    "        f_c = function(c)\n",
    "\n",
    "        if np.isclose(f_c, 0, 1.0E-10): #Applying tolerance\n",
    "            root = c\n",
    "            break\n",
    "        elif f_a*f_c < 0:\n",
    "            b = c\n",
    "            f_b = f_c\n",
    "        else:\n",
    "            a = c\n",
    "            f_a = f_c\n",
    "\n",
    "    return root, iter\n",
    "        "
   ]
  },
  {
   "cell_type": "code",
   "execution_count": 9,
   "id": "acc51f2e",
   "metadata": {},
   "outputs": [],
   "source": [
    "root_tol, iter_tol = find_root_tol(func, a=0, b=1)"
   ]
  },
  {
   "cell_type": "code",
   "execution_count": 10,
   "id": "4fd70be6",
   "metadata": {},
   "outputs": [
    {
     "name": "stdout",
     "output_type": "stream",
     "text": [
      "Root: 0.7853981703519821, found in 26 iterations\n"
     ]
    }
   ],
   "source": [
    "print(f\"Root: {root_tol}, found in {iter_tol} iterations\")"
   ]
  },
  {
   "cell_type": "markdown",
   "id": "91ab1743",
   "metadata": {},
   "source": [
    "*From the difference in the number of iterations we can clearly see that, tolerance helps to reduce the computational expenses*"
   ]
  }
 ],
 "metadata": {
  "kernelspec": {
   "display_name": "Python 3",
   "language": "python",
   "name": "python3"
  },
  "language_info": {
   "codemirror_mode": {
    "name": "ipython",
    "version": 3
   },
   "file_extension": ".py",
   "mimetype": "text/x-python",
   "name": "python",
   "nbconvert_exporter": "python",
   "pygments_lexer": "ipython3",
   "version": "3.13.5"
  }
 },
 "nbformat": 4,
 "nbformat_minor": 5
}
