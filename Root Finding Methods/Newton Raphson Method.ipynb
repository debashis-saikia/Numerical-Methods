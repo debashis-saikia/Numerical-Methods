{
 "cells": [
  {
   "cell_type": "code",
   "execution_count": 9,
   "id": "7dbf6264",
   "metadata": {},
   "outputs": [],
   "source": [
    "import numpy as np"
   ]
  },
  {
   "cell_type": "code",
   "execution_count": 10,
   "id": "4407f251",
   "metadata": {},
   "outputs": [],
   "source": [
    "def func(x):\n",
    "    return np.cos(x) - x"
   ]
  },
  {
   "cell_type": "code",
   "execution_count": 11,
   "id": "2f915e64",
   "metadata": {},
   "outputs": [],
   "source": [
    "def derivative(f, x, dx=1e-6):\n",
    "    return (f(x + dx) - f(x - dx)) / (2 * dx)"
   ]
  },
  {
   "cell_type": "code",
   "execution_count": 12,
   "id": "603ffe46",
   "metadata": {},
   "outputs": [],
   "source": [
    "def tangent_equation(x_0, x):\n",
    "    slope = derivative(func, x_0, dx=1e-6)\n",
    "    return slope * (x - x_0) + func(x_0)"
   ]
  },
  {
   "cell_type": "code",
   "execution_count": 13,
   "id": "abdcd255",
   "metadata": {},
   "outputs": [],
   "source": [
    "def newton_raphson(func, initial_guess, max_iterations=5, tol=1e-9):\n",
    "    x_n = initial_guess\n",
    "    iterations = 0\n",
    "    for i in range(max_iterations):\n",
    "        x_n1 = x_n - func(x_n) / derivative(func, x_n, dx=1e-6)\n",
    "        iterations += 1\n",
    "        if abs(x_n1 - x_n) < tol:  # Convergence criterion\n",
    "            print(f'Converged in {iterations} iterations.')\n",
    "            print(f'Root: {x_n1:.5f}')\n",
    "            return None\n",
    "        x_n = x_n1\n",
    "    print(f'Failed to converge in {max_iterations} iterations.')\n",
    "    return None"
   ]
  },
  {
   "cell_type": "code",
   "execution_count": 14,
   "id": "22f4e169",
   "metadata": {},
   "outputs": [
    {
     "name": "stdout",
     "output_type": "stream",
     "text": [
      "Converged in 4 iterations.\n",
      "Root: 0.73909\n"
     ]
    }
   ],
   "source": [
    "newton_raphson(func, initial_guess=0.7)"
   ]
  },
  {
   "cell_type": "code",
   "execution_count": null,
   "id": "aea35112",
   "metadata": {},
   "outputs": [],
   "source": []
  }
 ],
 "metadata": {
  "kernelspec": {
   "display_name": "Python 3",
   "language": "python",
   "name": "python3"
  },
  "language_info": {
   "codemirror_mode": {
    "name": "ipython",
    "version": 3
   },
   "file_extension": ".py",
   "mimetype": "text/x-python",
   "name": "python",
   "nbconvert_exporter": "python",
   "pygments_lexer": "ipython3",
   "version": "3.13.5"
  }
 },
 "nbformat": 4,
 "nbformat_minor": 5
}
