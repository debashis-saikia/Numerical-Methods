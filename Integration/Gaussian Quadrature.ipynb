{
 "cells": [
  {
   "cell_type": "code",
   "execution_count": 2,
   "id": "800a1276",
   "metadata": {},
   "outputs": [],
   "source": [
    "import numpy as np"
   ]
  },
  {
   "cell_type": "code",
   "execution_count": 3,
   "id": "5b0bc9da",
   "metadata": {},
   "outputs": [],
   "source": [
    "def func(x):\n",
    "    return (np.sin(x))**2"
   ]
  },
  {
   "cell_type": "code",
   "execution_count": 4,
   "id": "68b3df86",
   "metadata": {},
   "outputs": [],
   "source": [
    "data = np.genfromtxt('GQ_Data.txt')\n",
    "x = data[5:9, 1]\n",
    "y = data[5:9, 2]"
   ]
  },
  {
   "cell_type": "markdown",
   "id": "bc8b2bcd",
   "metadata": {},
   "source": [
    "# Gaussian Quadrature"
   ]
  },
  {
   "cell_type": "code",
   "execution_count": 5,
   "id": "3c2cc00f",
   "metadata": {},
   "outputs": [],
   "source": [
    "def new_func(x, a = 0, b = np.pi, f = func):\n",
    "    return f((b-a)*x/2 + (a+b)/2)* ((b - a)/2)"
   ]
  },
  {
   "cell_type": "code",
   "execution_count": 6,
   "id": "79219946",
   "metadata": {},
   "outputs": [],
   "source": [
    "def Integrate_GQ(x, y, f = new_func):\n",
    "    m = 0\n",
    "    for i in range(len(x)):\n",
    "        gq = x[i]*new_func(y[i], a = 0, b = np.pi)\n",
    "        m += gq\n",
    "    return m"
   ]
  },
  {
   "cell_type": "code",
   "execution_count": 7,
   "id": "bd41cecd",
   "metadata": {},
   "outputs": [
    {
     "data": {
      "text/plain": [
       "np.float64(1.5691189750294057)"
      ]
     },
     "execution_count": 7,
     "metadata": {},
     "output_type": "execute_result"
    }
   ],
   "source": [
    "Integrate_GQ(x, y)"
   ]
  },
  {
   "cell_type": "markdown",
   "id": "53f3f343",
   "metadata": {},
   "source": [
    "# Composite Gaussian Quadrature"
   ]
  },
  {
   "cell_type": "code",
   "execution_count": 8,
   "id": "08c3e789",
   "metadata": {},
   "outputs": [],
   "source": [
    "def comp_gaussian(m, x, y, f = new_func): #m = number of panels\n",
    "    panels = np.linspace(0, np.pi, m)\n",
    "    Isum = 0\n",
    "    for i in range(m - 1):\n",
    "        a = panels[i]\n",
    "        b = panels[i + 1]\n",
    "        gq = 0\n",
    "        for j in range(len(x)):\n",
    "            gq += x[j]*new_func(y[j], a = a, b = b)\n",
    "        Isum = Isum + gq\n",
    "    return Isum\n",
    "        "
   ]
  },
  {
   "cell_type": "code",
   "execution_count": 9,
   "id": "66469192",
   "metadata": {},
   "outputs": [
    {
     "data": {
      "text/plain": [
       "np.float64(1.5707963267948943)"
      ]
     },
     "execution_count": 9,
     "metadata": {},
     "output_type": "execute_result"
    }
   ],
   "source": [
    "comp_gaussian(5000, x, y)"
   ]
  },
  {
   "cell_type": "markdown",
   "id": "5f2ce75b",
   "metadata": {},
   "source": [
    "# Error"
   ]
  },
  {
   "cell_type": "code",
   "execution_count": 10,
   "id": "efeb4c8c",
   "metadata": {},
   "outputs": [
    {
     "name": "stdout",
     "output_type": "stream",
     "text": [
      "Exact value of the integral: 1.5707963267948966\n",
      "Error in Gaussian Quadrature: 0.0016773517654908865\n",
      "Error in Composite Gaussian Quadrature: 2.220446049250313e-15\n"
     ]
    }
   ],
   "source": [
    "# Exact value of the integral\n",
    "exact = np.pi/2\n",
    "print(\"Exact value of the integral:\", exact)\n",
    "error_GQ = abs(Integrate_GQ(x, y) - exact)\n",
    "error_comp = abs(comp_gaussian(5000, x, y) - exact)\n",
    "print(\"Error in Gaussian Quadrature:\", error_GQ)\n",
    "print(\"Error in Composite Gaussian Quadrature:\", error_comp)"
   ]
  },
  {
   "cell_type": "code",
   "execution_count": null,
   "id": "40a7718c",
   "metadata": {},
   "outputs": [],
   "source": []
  }
 ],
 "metadata": {
  "kernelspec": {
   "display_name": "Python 3",
   "language": "python",
   "name": "python3"
  },
  "language_info": {
   "codemirror_mode": {
    "name": "ipython",
    "version": 3
   },
   "file_extension": ".py",
   "mimetype": "text/x-python",
   "name": "python",
   "nbconvert_exporter": "python",
   "pygments_lexer": "ipython3",
   "version": "3.13.5"
  }
 },
 "nbformat": 4,
 "nbformat_minor": 5
}
