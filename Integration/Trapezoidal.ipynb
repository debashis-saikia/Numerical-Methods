{
 "cells": [
  {
   "cell_type": "code",
   "execution_count": 1,
   "id": "9bdf76b8",
   "metadata": {},
   "outputs": [],
   "source": [
    "import numpy as np"
   ]
  },
  {
   "cell_type": "code",
   "execution_count": 2,
   "id": "ec04840c",
   "metadata": {},
   "outputs": [],
   "source": [
    "def func(x):\n",
    "    return (np.sin(x))**2"
   ]
  },
  {
   "cell_type": "markdown",
   "id": "ab613749",
   "metadata": {},
   "source": [
    "# Trapezoidal Rule"
   ]
  },
  {
   "cell_type": "markdown",
   "id": "e3eab722",
   "metadata": {},
   "source": [
    "Trapezoidal rule formula\n",
    "$\\begin{equation}\n",
    "    I \\ = \\ \\frac{h}{2} (y_0 \\ + \\ y_1)\n",
    "\\end{equation}$"
   ]
  },
  {
   "cell_type": "code",
   "execution_count": 3,
   "id": "94bd238f",
   "metadata": {},
   "outputs": [],
   "source": [
    "def trape(a, b, f):\n",
    "    h = b - a\n",
    "    y_0 = f(a)\n",
    "    y_1 = f(b)\n",
    "    I = (h/2)*(y_0 + y_1)\n",
    "    return I"
   ]
  },
  {
   "cell_type": "code",
   "execution_count": 4,
   "id": "98348cd7",
   "metadata": {},
   "outputs": [
    {
     "data": {
      "text/plain": [
       "np.float64(2.3558171576799582e-32)"
      ]
     },
     "execution_count": 4,
     "metadata": {},
     "output_type": "execute_result"
    }
   ],
   "source": [
    "trape(0, np.pi, f = func)"
   ]
  },
  {
   "cell_type": "markdown",
   "id": "e7a41563",
   "metadata": {},
   "source": [
    "# Composite Trapezoidal"
   ]
  },
  {
   "cell_type": "code",
   "execution_count": 5,
   "id": "4159bf7a",
   "metadata": {},
   "outputs": [],
   "source": [
    "def comp_trape(m, a, b, f = func): #m = number of panels\n",
    "    panels = np.linspace(a, b, m)\n",
    "    I = 0\n",
    "    for i in range(m-1):\n",
    "        a_ = panels[i]\n",
    "        b_ = panels[i+1]\n",
    "        I +=trape(a_, b_, f)\n",
    "    return I"
   ]
  },
  {
   "cell_type": "code",
   "execution_count": null,
   "id": "458d4914",
   "metadata": {},
   "outputs": [
    {
     "data": {
      "text/plain": [
       "np.float64(1.5707963267948974)"
      ]
     },
     "execution_count": 7,
     "metadata": {},
     "output_type": "execute_result"
    }
   ],
   "source": [
    "comp_trape(500, 0, np.pi)"
   ]
  },
  {
   "cell_type": "markdown",
   "id": "76b4321c",
   "metadata": {},
   "source": [
    "# Error"
   ]
  },
  {
   "cell_type": "code",
   "execution_count": 9,
   "id": "40047f13",
   "metadata": {},
   "outputs": [
    {
     "name": "stdout",
     "output_type": "stream",
     "text": [
      "Exact value of the integral: 1.5707963267948966\n",
      "Error in Trapezoidal: 1.5707963267948966\n",
      "Error in Composite Trapezoidal: 8.881784197001252e-16\n"
     ]
    }
   ],
   "source": [
    "# Exact value of the integral\n",
    "exact = np.pi/2\n",
    "print(\"Exact value of the integral:\", exact)\n",
    "error_GQ = abs(trape(0, np.pi, f = func) - exact)\n",
    "error_comp = abs(comp_trape(5000, 0, np.pi, f = func) - exact)\n",
    "print(\"Error in Trapezoidal:\", error_GQ)\n",
    "print(\"Error in Composite Trapezoidal:\", error_comp)"
   ]
  },
  {
   "cell_type": "code",
   "execution_count": null,
   "id": "ecf55ea5",
   "metadata": {},
   "outputs": [],
   "source": []
  }
 ],
 "metadata": {
  "kernelspec": {
   "display_name": "Python 3",
   "language": "python",
   "name": "python3"
  },
  "language_info": {
   "codemirror_mode": {
    "name": "ipython",
    "version": 3
   },
   "file_extension": ".py",
   "mimetype": "text/x-python",
   "name": "python",
   "nbconvert_exporter": "python",
   "pygments_lexer": "ipython3",
   "version": "3.13.5"
  }
 },
 "nbformat": 4,
 "nbformat_minor": 5
}
