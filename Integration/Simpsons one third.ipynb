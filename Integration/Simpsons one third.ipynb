{
 "cells": [
  {
   "cell_type": "code",
   "execution_count": 1,
   "id": "a209b977",
   "metadata": {},
   "outputs": [],
   "source": [
    "import numpy as np"
   ]
  },
  {
   "cell_type": "code",
   "execution_count": 4,
   "id": "cb009665",
   "metadata": {},
   "outputs": [],
   "source": [
    "def func(x):\n",
    "    return (np.sin(x))**2"
   ]
  },
  {
   "cell_type": "markdown",
   "id": "dd3cb6b7",
   "metadata": {},
   "source": [
    "# Simpson's $\\frac{1}{3}$ rd rule"
   ]
  },
  {
   "cell_type": "markdown",
   "id": "5c1bb762",
   "metadata": {},
   "source": [
    "Formula:\n",
    "\n",
    "$\\begin{equation}\n",
    "    I \\ = \\ \\frac{h}{3} (y_0 \\ + 4 y_m \\ + \\ y_1)\n",
    "\\end{equation}$\n",
    "\n",
    "where $h \\ = \\ b \\ - \\ x_m \\ = \\ x_m \\ - \\ a$\n",
    "\n",
    "$x_m \\ = \\ \\frac{a + b}{2}$"
   ]
  },
  {
   "cell_type": "code",
   "execution_count": 20,
   "id": "7f8f20aa",
   "metadata": {},
   "outputs": [],
   "source": [
    "def simp(a, b, f):\n",
    "    x_m = (a + b)/2\n",
    "    y_0 = f(a)\n",
    "    y_m = f(x_m)\n",
    "    y_1 = f(b)\n",
    "    h = b - x_m\n",
    "    # numpy's allclose for floating point comparison\n",
    "    assert np.allclose(h, x_m - a)\n",
    "    I  = (h/3)*(y_0 + 4*y_m + y_1)\n",
    "    return I"
   ]
  },
  {
   "cell_type": "code",
   "execution_count": 21,
   "id": "1a07ff37",
   "metadata": {},
   "outputs": [
    {
     "data": {
      "text/plain": [
       "np.float64(2.0943951023931953)"
      ]
     },
     "execution_count": 21,
     "metadata": {},
     "output_type": "execute_result"
    }
   ],
   "source": [
    "simp(0, np.pi, func)"
   ]
  },
  {
   "cell_type": "markdown",
   "id": "732e62ba",
   "metadata": {},
   "source": [
    "# Composite Simpson"
   ]
  },
  {
   "cell_type": "code",
   "execution_count": 22,
   "id": "3c413157",
   "metadata": {},
   "outputs": [],
   "source": [
    "def comp_simp(m, a, b, f): # m = number of panels\n",
    "    panels = np.linspace(a, b, m)\n",
    "    I = 0\n",
    "    for i in range(m-1):\n",
    "        a_ = panels[i]\n",
    "        b_ = panels[i+1]\n",
    "        I +=simp(a_, b_, f)\n",
    "    return I"
   ]
  },
  {
   "cell_type": "code",
   "execution_count": 23,
   "id": "6734efbe",
   "metadata": {},
   "outputs": [
    {
     "data": {
      "text/plain": [
       "np.float64(1.5707963267948968)"
      ]
     },
     "execution_count": 23,
     "metadata": {},
     "output_type": "execute_result"
    }
   ],
   "source": [
    "comp_simp(500, 0, np.pi, func)"
   ]
  },
  {
   "cell_type": "markdown",
   "id": "bc4392c7",
   "metadata": {},
   "source": [
    "# Error "
   ]
  },
  {
   "cell_type": "code",
   "execution_count": 25,
   "id": "39802bc2",
   "metadata": {},
   "outputs": [
    {
     "name": "stdout",
     "output_type": "stream",
     "text": [
      "Exact value of the integral: 1.5707963267948966\n",
      "Error in Simpson: 0.5235987755982987\n",
      "Error in Composite Simpson: 3.774758283725532e-15\n"
     ]
    }
   ],
   "source": [
    "# Exact value of the integral\n",
    "exact = np.pi/2\n",
    "print(\"Exact value of the integral:\", exact)\n",
    "error_GQ = abs(simp(0, np.pi, f = func) - exact)\n",
    "error_comp = abs(comp_simp(5000, 0, np.pi, f = func) - exact)\n",
    "print(\"Error in Simpson:\", error_GQ)\n",
    "print(\"Error in Composite Simpson:\", error_comp)"
   ]
  },
  {
   "cell_type": "code",
   "execution_count": null,
   "id": "c76f7abf",
   "metadata": {},
   "outputs": [],
   "source": []
  }
 ],
 "metadata": {
  "kernelspec": {
   "display_name": "Python 3",
   "language": "python",
   "name": "python3"
  },
  "language_info": {
   "codemirror_mode": {
    "name": "ipython",
    "version": 3
   },
   "file_extension": ".py",
   "mimetype": "text/x-python",
   "name": "python",
   "nbconvert_exporter": "python",
   "pygments_lexer": "ipython3",
   "version": "3.13.5"
  }
 },
 "nbformat": 4,
 "nbformat_minor": 5
}
