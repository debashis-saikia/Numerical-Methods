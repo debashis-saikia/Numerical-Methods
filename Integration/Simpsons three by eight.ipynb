{
 "cells": [
  {
   "cell_type": "code",
   "execution_count": 3,
   "id": "6d4f57e5",
   "metadata": {},
   "outputs": [],
   "source": [
    "import numpy as np"
   ]
  },
  {
   "cell_type": "code",
   "execution_count": 4,
   "id": "9c86af29",
   "metadata": {},
   "outputs": [],
   "source": [
    "def func(x):\n",
    "    return (np.sin(x))**2"
   ]
  },
  {
   "cell_type": "markdown",
   "id": "a0a27a7a",
   "metadata": {},
   "source": [
    "# Simpson's $\\frac{3}{8}$ th Rule"
   ]
  },
  {
   "cell_type": "markdown",
   "id": "db60493f",
   "metadata": {},
   "source": [
    "Fomrula:\n",
    "$\\begin{equation}\n",
    "    I \\ = \\ \\frac{3h}{8} (y_0 \\ + 3 y_1 \\ + \\ 3y_2 \\ + \\  y_3)\n",
    "\\end{equation}$"
   ]
  },
  {
   "cell_type": "code",
   "execution_count": 5,
   "id": "4c1d6e90",
   "metadata": {},
   "outputs": [],
   "source": [
    "def simp(a, b, f):\n",
    "    intervals = np.linspace(a, b, 4)\n",
    "    x_0, x_1, x_2, x_3 = intervals\n",
    "    h = x_1 - x_0\n",
    "    y_0, y_1, y_2, y_3 = f(intervals)\n",
    "    I = (3*h/8)*(y_0 + 3*y_1 + 3*y_2 + y_3)\n",
    "    return I"
   ]
  },
  {
   "cell_type": "code",
   "execution_count": 6,
   "id": "52308c90",
   "metadata": {},
   "outputs": [
    {
     "data": {
      "text/plain": [
       "np.float64(1.7671458676442586)"
      ]
     },
     "execution_count": 6,
     "metadata": {},
     "output_type": "execute_result"
    }
   ],
   "source": [
    "simp(0, np.pi, func)"
   ]
  },
  {
   "cell_type": "markdown",
   "id": "364ad55e",
   "metadata": {},
   "source": [
    "# Composite Simpsons"
   ]
  },
  {
   "cell_type": "code",
   "execution_count": 7,
   "id": "d301b9b0",
   "metadata": {},
   "outputs": [],
   "source": [
    "def comp_simp(m, a, b, f):\n",
    "    panels = np.linspace(a, b, m)\n",
    "    I = 0\n",
    "    for i in range(m-1):\n",
    "        a_ = panels[i]\n",
    "        b_ = panels[i+1]\n",
    "        I +=simp(a_, b_, f)\n",
    "    return I"
   ]
  },
  {
   "cell_type": "code",
   "execution_count": 8,
   "id": "9790cf34",
   "metadata": {},
   "outputs": [
    {
     "data": {
      "text/plain": [
       "np.float64(1.5707963267949288)"
      ]
     },
     "execution_count": 8,
     "metadata": {},
     "output_type": "execute_result"
    }
   ],
   "source": [
    "comp_simp(500, 0, np.pi, func)"
   ]
  },
  {
   "cell_type": "markdown",
   "id": "aeba90b8",
   "metadata": {},
   "source": [
    "# Error"
   ]
  },
  {
   "cell_type": "code",
   "execution_count": 9,
   "id": "f09fc258",
   "metadata": {},
   "outputs": [
    {
     "name": "stdout",
     "output_type": "stream",
     "text": [
      "Exact value of the integral: 1.5707963267948966\n",
      "Error in Simpson: 0.19634954084936207\n",
      "Error in Composite Simpson: 1.6209256159527285e-14\n"
     ]
    }
   ],
   "source": [
    "# Exact value of the integral\n",
    "exact = np.pi/2\n",
    "print(\"Exact value of the integral:\", exact)\n",
    "error_GQ = abs(simp(0, np.pi, f = func) - exact)\n",
    "error_comp = abs(comp_simp(5000, 0, np.pi, f = func) - exact)\n",
    "print(\"Error in Simpson:\", error_GQ)\n",
    "print(\"Error in Composite Simpson:\", error_comp)"
   ]
  },
  {
   "cell_type": "code",
   "execution_count": null,
   "id": "a04fba7d",
   "metadata": {},
   "outputs": [],
   "source": []
  }
 ],
 "metadata": {
  "kernelspec": {
   "display_name": "Python 3",
   "language": "python",
   "name": "python3"
  },
  "language_info": {
   "codemirror_mode": {
    "name": "ipython",
    "version": 3
   },
   "file_extension": ".py",
   "mimetype": "text/x-python",
   "name": "python",
   "nbconvert_exporter": "python",
   "pygments_lexer": "ipython3",
   "version": "3.13.5"
  }
 },
 "nbformat": 4,
 "nbformat_minor": 5
}
